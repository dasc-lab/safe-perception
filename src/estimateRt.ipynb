{
 "cells": [
  {
   "cell_type": "code",
   "execution_count": 1,
   "id": "2c062fee",
   "metadata": {},
   "outputs": [
    {
     "name": "stderr",
     "output_type": "stream",
     "text": [
      "\u001b[32m\u001b[1m  Activating\u001b[22m\u001b[39m project at `~/GithubRepos/certified-pose`\n"
     ]
    }
   ],
   "source": [
    "] activate . "
   ]
  },
  {
   "cell_type": "code",
   "execution_count": 64,
   "id": "1ee3f45d",
   "metadata": {},
   "outputs": [],
   "source": [
    "# ] st returns:\n",
    "# Status `~/GithubRepos/certified-pose/Project.toml`\n",
    "#   [6e4b80f9] BenchmarkTools v1.3.2\n",
    "#   [8729bc32] GraduatedNonConvexity v0.1.0 `https://github.com/dev10110/GraduatedNonConvexity.jl#main`\n",
    "#   [91a5bcdd] Plots v1.38.3\n",
    "#   [6038ab10] Rotations v1.3.4\n",
    "#   [90137ffa] StaticArrays v1.5.12\n",
    "#   [37e2e46d] LinearAlgebra"
   ]
  },
  {
   "cell_type": "code",
   "execution_count": 65,
   "id": "654ea2bb",
   "metadata": {},
   "outputs": [
    {
     "name": "stdout",
     "output_type": "stream",
     "text": [
      "\u001b[32m\u001b[1mStatus\u001b[22m\u001b[39m `~/GithubRepos/certified-pose/Project.toml`\n",
      " \u001b[90m [6e4b80f9] \u001b[39mBenchmarkTools v1.3.2\n",
      " \u001b[90m [8729bc32] \u001b[39mGraduatedNonConvexity v0.1.0 `https://github.com/dev10110/GraduatedNonConvexity.jl#main`\n",
      " \u001b[90m [91a5bcdd] \u001b[39mPlots v1.38.3\n",
      " \u001b[90m [6038ab10] \u001b[39mRotations v1.3.4\n",
      " \u001b[90m [90137ffa] \u001b[39mStaticArrays v1.5.12\n",
      " \u001b[90m [37e2e46d] \u001b[39mLinearAlgebra\n"
     ]
    }
   ],
   "source": [
    "] st"
   ]
  },
  {
   "cell_type": "code",
   "execution_count": null,
   "id": "2273e590",
   "metadata": {},
   "outputs": [],
   "source": []
  },
  {
   "cell_type": "code",
   "execution_count": 4,
   "id": "bb673474",
   "metadata": {},
   "outputs": [],
   "source": [
    "using LinearAlgebra, Random, Rotations, GraduatedNonConvexity, StaticArrays, BenchmarkTools"
   ]
  },
  {
   "cell_type": "code",
   "execution_count": 5,
   "id": "e81dc1fc",
   "metadata": {},
   "outputs": [],
   "source": [
    "using Plots"
   ]
  },
  {
   "cell_type": "code",
   "execution_count": 6,
   "id": "62118fd0",
   "metadata": {},
   "outputs": [
    {
     "data": {
      "text/plain": [
       "Plots.GRBackend()"
      ]
     },
     "execution_count": 6,
     "metadata": {},
     "output_type": "execute_result"
    }
   ],
   "source": [
    "gr()"
   ]
  },
  {
   "cell_type": "code",
   "execution_count": 7,
   "id": "0d25e13e",
   "metadata": {},
   "outputs": [],
   "source": [
    "## generate points"
   ]
  },
  {
   "cell_type": "code",
   "execution_count": 8,
   "id": "2d50637d",
   "metadata": {},
   "outputs": [
    {
     "data": {
      "text/plain": [
       "rotdist (generic function with 1 method)"
      ]
     },
     "execution_count": 8,
     "metadata": {},
     "output_type": "execute_result"
    }
   ],
   "source": [
    "function rotdist(R1, R2)\n",
    "    s = (tr(R1 * R2') - 1) / 2 \n",
    "    s = clamp(s, -1.0,1.0) # to correct for potential float pt errors\n",
    "    return acos(s)\n",
    "end"
   ]
  },
  {
   "cell_type": "code",
   "execution_count": 9,
   "id": "3d4a509f",
   "metadata": {},
   "outputs": [
    {
     "data": {
      "text/plain": [
       "ransac (generic function with 1 method)"
      ]
     },
     "execution_count": 9,
     "metadata": {},
     "output_type": "execute_result"
    }
   ],
   "source": [
    "function ransac(N, data, solver, res, c, n; verbose=false, min_inlier_ratio=0.1, max_iterations=1000, initial_guess=solver(ones(N), data))\n",
    "    \n",
    "    iter = 0\n",
    "    bestErr = Inf\n",
    "    x_best = copy(initial_guess)\n",
    "    rs = res(x_best, data)\n",
    "    best_error = mapreduce(r->max(r^2, c^2),  +, rs)\n",
    "    #@show best_error\n",
    "\n",
    "    for iter = 1:max_iterations\n",
    "        \n",
    "        # sample randomly\n",
    "        sample = rand(1:N, n)\n",
    "        sample_w = zeros(N)\n",
    "        sample_w[sample] .= 1\n",
    "        # solve for the best solution on these points\n",
    "        sample_x = solver(sample_w, data)\n",
    "        \n",
    "        # check for inliners\n",
    "        rs = res(sample_x, data)\n",
    "        inliers = [i for i=1:N if abs(rs[i]) <= c]\n",
    "        #@show length(inliers)\n",
    "        if length(inliers) > min_inlier_ratio * N\n",
    "            #@show length(inliers)\n",
    "            # fit to all inliers\n",
    "            inlier_w = zeros(N)\n",
    "            inlier_w[inliers] .= 1\n",
    "            inlier_x = solver(inlier_w, data)\n",
    "            inlier_rs = res(inlier_x, data)\n",
    "            inlier_error = mapreduce(r-> max(r^2, c^2), +, inlier_rs[inliers])\n",
    "            #@show inlier_error, best_error\n",
    "            if inlier_error < best_error\n",
    "                #@show \"replacing\"\n",
    "                x_best = inlier_x\n",
    "                best_error = inlier_error\n",
    "            end\n",
    "        end\n",
    "    end\n",
    "    \n",
    "    return x_best\n",
    "end\n",
    "    "
   ]
  },
  {
   "cell_type": "code",
   "execution_count": 11,
   "id": "92e37c24",
   "metadata": {},
   "outputs": [
    {
     "data": {
      "text/plain": [
       "Main.PoseEstimation"
      ]
     },
     "execution_count": 11,
     "metadata": {},
     "output_type": "execute_result"
    }
   ],
   "source": [
    "module PoseEstimation\n",
    "\n",
    "using LinearAlgebra, StaticArrays, GraduatedNonConvexity, Parameters\n",
    "\n",
    "# all quaternions are \n",
    "\n",
    "SV3{F} = SVector{3,F}\n",
    "SV4{F} = SVector{4,F}\n",
    "Quaternion{F} = SVector{4,F}\n",
    "\n",
    "# returns qa ∘ qb\n",
    "function quatprod(qa, qb)\n",
    "    return Ω1(qa) * qb\n",
    "end\n",
    "\n",
    "# returns inv(q)\n",
    "function quatinv(q::Quaternion)\n",
    "    return Quaternion(-q[1], -q[2], -q[3], q[4])\n",
    "end\n",
    "\n",
    "# function vechat(q)\n",
    "#     if length(q) == 3\n",
    "#         return q[1], q[2], q[3], zero(q[3])\n",
    "#     end\n",
    "#     if length(q) == 4\n",
    "#         return q[1], q[2], q[3], q[4]\n",
    "#     end\n",
    "# end\n",
    "\n",
    "# function vechat(q::SV3{F}) where {F}\n",
    "#     return q[1], q[2], q[3], zero(F)\n",
    "# end\n",
    "\n",
    "# function vechat(q::SV4{F}) where {F}\n",
    "#     return q[1], q[2], q[3], q[4]\n",
    "# end\n",
    "\n",
    "\n",
    "# returns operator Ω1(q) such that q ∘ v = Ω1(q) v̂\n",
    "function Ω1(q::Quaternion)# left mul operator\n",
    "\n",
    "    q1 = q[1]\n",
    "    q2 = q[2]\n",
    "    q3 = q[3]\n",
    "    q4 = q[4]\n",
    "    \n",
    "    return @SMatrix [\n",
    "        [ q4 ;; -q3 ;;  q2 ;; q1] ;\n",
    "        [ q3 ;;  q4 ;; -q1 ;; q2] ;\n",
    "        [-q2 ;;  q1 ;;  q4 ;; q3] ;\n",
    "        [-q1 ;; -q2 ;; -q3 ;; q4]\n",
    "    ]\n",
    "    \n",
    "end\n",
    "function Ω1(q::SV3)\n",
    "    return Ω1(Quaternion(q..., 0))\n",
    "end\n",
    "\n",
    "# returns operator Ω2(q) such that v ∘ q = Ω2(q) v̂\n",
    "function Ω2(q::Quaternion) # right mul operator\n",
    "    \n",
    "    q1 = q[1]\n",
    "    q2 = q[2]\n",
    "    q3 = q[3]\n",
    "    q4 = q[4]\n",
    "    \n",
    "    return @SMatrix [\n",
    "        [ q4 ;;  q3 ;; -q2 ;; q1] ;\n",
    "        [-q3 ;;  q4 ;;  q1 ;; q2 ] ;\n",
    "        [ q2 ;; -q1 ;;  q4 ;; q3 ] ;\n",
    "        [-q1 ;; -q2 ;; -q3 ;; q4]\n",
    "    ]\n",
    "    \n",
    "end\n",
    "\n",
    "function Ω2(q::SV3)\n",
    "    return Ω2(Quaternion(q..., 0))\n",
    "end\n",
    "\n",
    "function quat_to_rot(q::Quaternion{F}) where {F}\n",
    "    \n",
    "    R̂ = Ω1(q) * Ω2(quatinv(q))\n",
    "    \n",
    "    R = R̂[1:3, 1:3]\n",
    "    \n",
    "    return SMatrix{3,3,F,9}(R)\n",
    "end\n",
    "\n",
    "function construct_Q(N, a::AF, b::AF, w::VF) where {F, AF<:AbstractArray{F}, VF<:AbstractVector{F}}\n",
    "    # construct Q matrix\n",
    "    Q = zero(MMatrix{4,4, F, 16})\n",
    "\n",
    "    @inbounds for i=1:N\n",
    "        if w[i] != 0\n",
    "            qa = Quaternion(a[1, i], a[2, i], a[3, i], zero(F))\n",
    "            qb = Quaternion(b[1, i], b[2, i], b[3, i], zero(F))\n",
    "            Ω1b = Ω1(qb)\n",
    "            Ω2a = Ω2(qa)\n",
    "            Qi = Ω1b' * Ω2a\n",
    "            wQiQi = w[i] * Qi + Qi'\n",
    "            Q .-= wQiQi\n",
    "        end\n",
    "    end\n",
    "    return Q\n",
    "end\n",
    "\n",
    "\"\"\"\n",
    "    estimate_R(a, b, w)\n",
    "\n",
    "solves the problem\n",
    "\n",
    "R^* = min sum_{i=1}^N w_i ||b_i - R a_i||^2\n",
    "\n",
    "in closed form\n",
    "\"\"\"\n",
    "function _estimate_R(a::AF, b::AF, w=ones(F, size(a, 2))) where {F, AF <: AbstractArray{F}}\n",
    "    \"\"\"\n",
    "    method: cast the problem in quaternions\n",
    "    write the problem as min q^T Q q such that ||q|| = 1\n",
    "    notice the problem is an eigenvector problem\n",
    "    return eigenvector with smallest eigenvalue\n",
    "    \"\"\"\n",
    "    \n",
    "    @assert size(a) == size(b)\n",
    "    N = size(a, 2)\n",
    "    @assert length(w) == N\n",
    "    \n",
    "    Q = construct_Q(N, a, b, w)\n",
    "    \n",
    "    # get min eigenvector \n",
    "    q = eigvecs(Q)[:,1] |> real |> Quaternion{F} \n",
    "\n",
    "    # convert to rotation matrix\n",
    "    R = quat_to_rot(q)\n",
    "    \n",
    "    return R\n",
    "    \n",
    "end\n",
    "\n",
    "\"\"\"\n",
    "    estimate_t(s, w)\n",
    "\n",
    "solves the problem\n",
    "\n",
    "R^* = min sum_{i=1}^N w_i ||s_i - t||^2\n",
    "\n",
    "in closed form\n",
    "\n",
    "\"\"\"\n",
    "function _estimate_t(s, w=ones(size(s,2)))\n",
    "    \n",
    "    D, N = size(s) # t \\in R^D, and there are N points to match\n",
    "    \n",
    "    P = sum(w)*I(D)\n",
    "    q = sum(w[i] * s[:, i] for i in 1:N)\n",
    "    \n",
    "    return P \\ q\n",
    "end\n",
    "\n",
    "abstract type PairingMethod end\n",
    "\n",
    "@with_kw struct Star <:PairingMethod\n",
    "    n::Integer = 1\n",
    "end\n",
    "\n",
    "@with_kw struct Complete <:PairingMethod\n",
    "    frac::Float64 = 1.0\n",
    "end\n",
    "\n",
    "function make_pairs(m::Star, N)\n",
    "    is = ones(Int, N-1) * m.n\n",
    "    js = [j for j=1:N if j != m.n]\n",
    "    return is, js\n",
    "end\n",
    "\n",
    "function make_pairs(m::Complete, N::T) where {T}\n",
    "    \n",
    "    is = T[]\n",
    "    js = T[]\n",
    "    for i=1:N, j=1:N\n",
    "        if i > j && (m.frac == 1 || rand() < m.frac)\n",
    "            push!(is, i)\n",
    "            push!(js, j)\n",
    "        end\n",
    "    end\n",
    "    \n",
    "    return is, js\n",
    "end\n",
    "\n",
    "abstract type LsqMethod end\n",
    "\n",
    "struct LS <: LsqMethod\n",
    "end\n",
    "\n",
    "@with_kw struct GM <: LsqMethod\n",
    "    c̄\n",
    "    max_iterations = 1000\n",
    "    μ_factor = 1.4\n",
    "    verbose=false\n",
    "    rtol=1e-6\n",
    "end\n",
    "GM(c, kwargs...) = GM(c̄=c; kwargs...)\n",
    "\n",
    "@with_kw struct TLS <: LsqMethod\n",
    "    c̄\n",
    "    max_iterations = 1000\n",
    "    μ_factor = 1.4\n",
    "    rtol=1e-6\n",
    "    verbose = false\n",
    "end\n",
    "TLS(c) = TLS(c̄=c)\n",
    "\n",
    "\n",
    "function wls_solver_R(w, data)\n",
    "    a, b = data\n",
    "    return _estimate_R(a, b, w)\n",
    "end\n",
    "\n",
    "function residuals_R(R, data)\n",
    "    a, b = data\n",
    "    N = size(a, 2)\n",
    "    δ = b - R*a\n",
    "    return [norm(δ[:, i]) for i=1:N]\n",
    "end\n",
    "\n",
    "function wls_solver_t(w, s)\n",
    "    return _estimate_t(s, w)\n",
    "end\n",
    "\n",
    "function residuals_t(t, s)\n",
    "    return [norm(s[:, i] - t) for i=1:size(s, 2)]\n",
    "end\n",
    "\n",
    "\n",
    "function estimate_R(method::LS, a, b)\n",
    "    R = _estimate_R(a, b)\n",
    "    return R\n",
    "end\n",
    "\n",
    "function estimate_R(method::TLS, a, b)\n",
    "    N = size(a, 2)\n",
    "    data = (a, b)\n",
    "    R = GNC_TLS(N, data, wls_solver_R, residuals_R, method.c̄; \n",
    "        max_iterations = method.max_iterations,\n",
    "        μ_factor = method.μ_factor,\n",
    "        verbose=method.verbose,\n",
    "        rtol = method.rtol\n",
    "    )\n",
    "    return R\n",
    "end\n",
    "\n",
    "function estimate_R(method::GM, a, b)\n",
    "    N = size(a, 2)\n",
    "    data = (a, b)\n",
    "    R = GNC_GM(N, data, wls_solver_R, residuals_R, method.c̄; \n",
    "        max_iterations = method.max_iterations,\n",
    "        μ_factor = method.μ_factor,\n",
    "        verbose=method.verbose,\n",
    "        rtol = method.rtol\n",
    "    )\n",
    "    return R\n",
    "end\n",
    "\n",
    "function estimate_t(method::LS, p1,p2,R)\n",
    "    s = p2 - R*p1\n",
    "    t = _estimate_t(s)\n",
    "    return t\n",
    "end\n",
    "\n",
    "function estimate_t(method::TLS, p1,p2,R)\n",
    "\n",
    "    s = p2 - R * p1\n",
    "    N = size(s, 2)\n",
    "    \n",
    "    R = GNC_TLS(N, s, wls_solver_t, residuals_t, method.c̄; \n",
    "        max_iterations = method.max_iterations,\n",
    "        μ_factor = method.μ_factor,\n",
    "        verbose=method.verbose,\n",
    "        rtol = method.rtol\n",
    "    )\n",
    "    return R\n",
    "end\n",
    "\n",
    "function estimate_t(method::GM, p1, p2, R)\n",
    "    s = p2 - R * p1\n",
    "    N = size(s, 2)\n",
    "    \n",
    "    R = GNC_TLS(N, s, wls_solver_t, residuals_t, method.c̄; \n",
    "        max_iterations = method.max_iterations,\n",
    "        μ_factor = method.μ_factor,\n",
    "        verbose=method.verbose,\n",
    "        rtol = method.rtol\n",
    "    )\n",
    "    return R\n",
    "end\n",
    "\n",
    "function estimate_Rt(p1, p2; method_pairing::PairingMethod, method_R::LsqMethod, method_t::LsqMethod)\n",
    "    \n",
    "    N = size(p1, 2)\n",
    "    \n",
    "    is, js = make_pairs(method_pairing, N)\n",
    "    \n",
    "    a = p1[:, is] - p1[:, js]\n",
    "    b = p2[:, is] - p2[:, js]\n",
    "    \n",
    "    R = estimate_R(method_R, a, b)\n",
    "    \n",
    "    t = estimate_t(method_t, p1, p2, R)\n",
    "    \n",
    "    return R, t\n",
    "    \n",
    "end\n",
    "\n",
    "\n",
    "σmin(A) = sqrt(max(0, eigmin(A'*A)))\n",
    "\n",
    "\n",
    "# note, this function scales as N^4\n",
    "# only pass in inliers to p1, i.e. pass in p1[:, inliner_idx]\n",
    "# this function implements different maths than in Teaser\n",
    "# since the proof in Teaser is wrong\n",
    "# a (probably) good anytime approximation will be to run this function with random sets of 4 inds\n",
    "# and take the lowest bound produced. This approximation will still be an upper-bound to the error\n",
    "function ϵR(p1, β)\n",
    "    \n",
    "    N = size(p1, 2)\n",
    "    \n",
    "    best_bound = Inf\n",
    "\n",
    "    @views @inbounds for i=1:N\n",
    "        \n",
    "        PI = SMatrix{3,3}(p1[:, [i,i,i]])\n",
    "        \n",
    "        for j=(i+1):N, h=(j+1):N, k=(h+1):N\n",
    "        \n",
    "           U = SMatrix{3,3}(p1[:, [j,h,k]]) - PI\n",
    "\n",
    "           σ = σmin(U)\n",
    "            \n",
    "           if σ > 0\n",
    "                bound = 2*sqrt(3)*(2β) / σ\n",
    "                best_bound = min(bound, best_bound)\n",
    "           end\n",
    "            \n",
    "        end\n",
    "    end\n",
    "    \n",
    "    return best_bound\n",
    "    \n",
    "end\n",
    "\n",
    "function ϵt(β)\n",
    "    return (9 + 3*sqrt(3))*β\n",
    "end\n",
    "\n",
    "\n",
    "end"
   ]
  },
  {
   "cell_type": "code",
   "execution_count": 12,
   "id": "04cad717",
   "metadata": {},
   "outputs": [
    {
     "data": {
      "text/plain": [
       "Main.PoseEstimation"
      ]
     },
     "execution_count": 12,
     "metadata": {},
     "output_type": "execute_result"
    }
   ],
   "source": [
    "using .PoseEstimation\n",
    "PE = PoseEstimation"
   ]
  },
  {
   "cell_type": "code",
   "execution_count": 13,
   "id": "762836be",
   "metadata": {},
   "outputs": [],
   "source": [
    "Random.seed!(42);"
   ]
  },
  {
   "cell_type": "code",
   "execution_count": 14,
   "id": "0c6fd51b",
   "metadata": {},
   "outputs": [
    {
     "data": {
      "text/plain": [
       "3×1000 Matrix{Float64}:\n",
       " -1.00473   -0.282145  -3.1916    …  -1.40873    -0.590944  -2.07617\n",
       " -1.14969   -0.657871  -2.11146       0.38221    -2.50974   -0.960117\n",
       " -0.128386  -0.557652   0.730906      0.0422261  -0.593872   0.063647"
      ]
     },
     "execution_count": 14,
     "metadata": {},
     "output_type": "execute_result"
    }
   ],
   "source": [
    "\n",
    "## construct ground truth data\n",
    "\n",
    "\n",
    "N = 1_000 # number of correspondences\n",
    "p1 = randn(3, N)\n",
    "\n",
    "# generate a ground-truth pose\n",
    "R_groundtruth = rand(RotMatrix{3})\n",
    "\n",
    "# generate a ground-truth translation\n",
    "t_groundtruth = randn(3)\n",
    "\n",
    "# generate true p2\n",
    "p2 = R_groundtruth * p1  .+ t_groundtruth"
   ]
  },
  {
   "cell_type": "code",
   "execution_count": 15,
   "id": "4ef8548a",
   "metadata": {},
   "outputs": [],
   "source": [
    "# make noisy measurements\n",
    "β = 0.01\n",
    "p2_noisy = copy(p2)\n",
    "for i=1:N\n",
    "    p2_noisy[:, i] += β*(2*rand(3).-1)\n",
    "end\n",
    "\n",
    "# add outliers to some% of data\n",
    "inds = [i for i=2:N if rand() < 0.70]\n",
    "for i=inds\n",
    "    p2_noisy[:, i] += 3*randn(3)\n",
    "end"
   ]
  },
  {
   "cell_type": "code",
   "execution_count": 16,
   "id": "304b3b97",
   "metadata": {},
   "outputs": [
    {
     "data": {
      "text/plain": [
       "0.005"
      ]
     },
     "execution_count": 16,
     "metadata": {},
     "output_type": "execute_result"
    }
   ],
   "source": [
    "# set maximum residual of inliers\n",
    "# this number should be computed based off β\n",
    "c̄ = 0.005"
   ]
  },
  {
   "cell_type": "code",
   "execution_count": 37,
   "id": "37174db3",
   "metadata": {},
   "outputs": [],
   "source": [
    "# normal least squares is quite off"
   ]
  },
  {
   "cell_type": "code",
   "execution_count": 38,
   "id": "223acad4",
   "metadata": {},
   "outputs": [
    {
     "name": "stdout",
     "output_type": "stream",
     "text": [
      "  0.000413 seconds (3.56 k allocations: 518.359 KiB)\n",
      "(rotdist(R_ls, R_groundtruth) * 180) / π = 6.559942365519717\n",
      "norm(t_ls - t_groundtruth) = 0.18690212342874568\n"
     ]
    },
    {
     "data": {
      "text/plain": [
       "0.18690212342874568"
      ]
     },
     "execution_count": 38,
     "metadata": {},
     "output_type": "execute_result"
    }
   ],
   "source": [
    "@time R_ls, t_ls = PE.estimate_Rt(p1, p2_noisy;\n",
    "    method_pairing=PE.Star(),\n",
    "    method_R=PE.LS(),\n",
    "    method_t=PE.LS())\n",
    "\n",
    "@show rotdist(R_ls, R_groundtruth) * 180 / π\n",
    "@show norm(t_ls - t_groundtruth)"
   ]
  },
  {
   "cell_type": "code",
   "execution_count": 39,
   "id": "f19afbc1",
   "metadata": {},
   "outputs": [],
   "source": [
    "# TLS works quite well"
   ]
  },
  {
   "cell_type": "code",
   "execution_count": 40,
   "id": "92c9aa01",
   "metadata": {},
   "outputs": [
    {
     "name": "stdout",
     "output_type": "stream",
     "text": [
      "  0.015191 seconds (171.26 k allocations: 16.057 MiB)\n",
      "(rotdist(R_tls, R_groundtruth) * 180) / π = 0.1373080874015569\n",
      "norm(t_tls - t_groundtruth) = 0.0005290940925725104\n"
     ]
    },
    {
     "data": {
      "text/plain": [
       "0.0005290940925725104"
      ]
     },
     "execution_count": 40,
     "metadata": {},
     "output_type": "execute_result"
    }
   ],
   "source": [
    "@time R_tls, t_tls = PE.estimate_Rt(p1, p2_noisy;\n",
    "    method_pairing=PE.Star(),\n",
    "    method_R=PE.TLS(c̄ = 0.07), # TODO: fix c̄, put in the theoretically correct value based on β\n",
    "    method_t=PE.TLS(c̄ = 0.07)\n",
    ")\n",
    "\n",
    "@show rotdist(R_tls, R_groundtruth) * 180 / π\n",
    "@show norm(t_tls - t_groundtruth)"
   ]
  },
  {
   "cell_type": "code",
   "execution_count": 41,
   "id": "83a9f557",
   "metadata": {},
   "outputs": [
    {
     "name": "stdout",
     "output_type": "stream",
     "text": [
      "  0.012534 seconds (139.10 k allocations: 12.971 MiB)\n",
      "(rotdist(R_tls, R_groundtruth) * 180) / π = 0.1373080874015569\n",
      "norm(t_tls - t_groundtruth) = 0.0005290940925725104\n"
     ]
    },
    {
     "data": {
      "text/plain": [
       "0.0005290940925725104"
      ]
     },
     "execution_count": 41,
     "metadata": {},
     "output_type": "execute_result"
    }
   ],
   "source": [
    "# even when we overestimate the magnitude of noise\n",
    "@time R_tls, t_tls = PE.estimate_Rt(p1, p2_noisy;\n",
    "    method_pairing=PE.Star(),\n",
    "    method_R=PE.TLS(c̄ = 0.25),\n",
    "    method_t=PE.TLS(c̄ = 0.25))\n",
    "\n",
    "@show rotdist(R_tls, R_groundtruth) * 180 / π\n",
    "@show norm(t_tls - t_groundtruth)"
   ]
  },
  {
   "cell_type": "code",
   "execution_count": 42,
   "id": "35c7beba",
   "metadata": {},
   "outputs": [],
   "source": [
    "# GM doesnt work as well - probably just not as well tuned"
   ]
  },
  {
   "cell_type": "code",
   "execution_count": 43,
   "id": "19631d24",
   "metadata": {},
   "outputs": [
    {
     "name": "stdout",
     "output_type": "stream",
     "text": [
      "  0.050644 seconds (276.43 k allocations: 24.658 MiB, 56.84% gc time)\n",
      "(rotdist(R_gm, R_groundtruth) * 180) / π = 6.506343919389801\n",
      "norm(t_gm - t_groundtruth) = 0.025151107561736087\n"
     ]
    },
    {
     "data": {
      "text/plain": [
       "0.025151107561736087"
      ]
     },
     "execution_count": 43,
     "metadata": {},
     "output_type": "execute_result"
    }
   ],
   "source": [
    "@time R_gm, t_gm = PE.estimate_Rt(p1, p2_noisy;\n",
    "    method_pairing=PE.Star(),\n",
    "    method_R=PE.GM(0.07),\n",
    "    method_t=PE.GM(0.07))\n",
    "\n",
    "@show rotdist(R_gm, R_groundtruth) * 180 / π\n",
    "@show norm(t_gm - t_groundtruth)"
   ]
  },
  {
   "cell_type": "code",
   "execution_count": 44,
   "id": "c01159d9",
   "metadata": {},
   "outputs": [],
   "source": [
    "# using a complete graph (instead of a star graph) helps, but is (much) slower"
   ]
  },
  {
   "cell_type": "code",
   "execution_count": 45,
   "id": "f96d0d91",
   "metadata": {},
   "outputs": [
    {
     "name": "stdout",
     "output_type": "stream",
     "text": [
      "  3.238169 seconds (19.62 M allocations: 2.560 GiB, 14.27% gc time)\n",
      "rotdist(R_tls, R_groundtruth) = 0.00033243496504911814\n",
      "norm(t_tls - t_groundtruth) = 0.0004081488784256854\n"
     ]
    },
    {
     "data": {
      "text/plain": [
       "0.0004081488784256854"
      ]
     },
     "execution_count": 45,
     "metadata": {},
     "output_type": "execute_result"
    }
   ],
   "source": [
    "@time R_tls, t_tls = PE.estimate_Rt(p1, p2_noisy;\n",
    "    method_pairing=PE.Complete(),\n",
    "    method_R=PE.TLS(0.07),\n",
    "    method_t=PE.TLS(0.07))\n",
    "\n",
    "@show rotdist(R_tls, R_groundtruth)\n",
    "@show norm(t_tls - t_groundtruth)"
   ]
  },
  {
   "cell_type": "code",
   "execution_count": 46,
   "id": "9c6ab090",
   "metadata": {},
   "outputs": [],
   "source": [
    "inliers = [i for i=1:N if !(i in inds)];"
   ]
  },
  {
   "cell_type": "code",
   "execution_count": null,
   "id": "8655edbc",
   "metadata": {},
   "outputs": [],
   "source": []
  },
  {
   "cell_type": "code",
   "execution_count": 47,
   "id": "bc39c556",
   "metadata": {},
   "outputs": [],
   "source": [
    "## now for the certification"
   ]
  },
  {
   "cell_type": "code",
   "execution_count": 48,
   "id": "66ae7ad6",
   "metadata": {},
   "outputs": [],
   "source": [
    "# estimate the error bound for rotation matrices\n",
    "# this is a bound on the maximum ||R - R̂||_F"
   ]
  },
  {
   "cell_type": "code",
   "execution_count": null,
   "id": "1f9e5376",
   "metadata": {},
   "outputs": [],
   "source": []
  },
  {
   "cell_type": "code",
   "execution_count": 62,
   "id": "d1bd49b4",
   "metadata": {
    "scrolled": true
   },
   "outputs": [
    {
     "name": "stdout",
     "output_type": "stream",
     "text": [
      "  0.001226 seconds (10.00 k allocations: 687.500 KiB)\n"
     ]
    },
    {
     "data": {
      "text/plain": [
       "0.03343246392961011"
      ]
     },
     "execution_count": 62,
     "metadata": {},
     "output_type": "execute_result"
    }
   ],
   "source": [
    "@time begin bb=Inf\n",
    "for i=1:1000\n",
    "    bb = min(bb, PE.ϵR(p1[:, rand(inliers, 4)], β))\n",
    "end\n",
    "bb\n",
    "end"
   ]
  },
  {
   "cell_type": "code",
   "execution_count": 50,
   "id": "c55ec864",
   "metadata": {},
   "outputs": [
    {
     "data": {
      "text/plain": [
       "0.14196152422706632"
      ]
     },
     "execution_count": 50,
     "metadata": {},
     "output_type": "execute_result"
    }
   ],
   "source": [
    "PE.ϵt(β)"
   ]
  },
  {
   "cell_type": "code",
   "execution_count": 51,
   "id": "f046d173",
   "metadata": {},
   "outputs": [],
   "source": [
    "# woah thats huge!!\n",
    "# a 1 cm measurement error on each point correspinds to 14 cm error ball!\n",
    "# the derivation in the paper is also suspect - I think we can improve it"
   ]
  },
  {
   "cell_type": "code",
   "execution_count": null,
   "id": "6851030d",
   "metadata": {},
   "outputs": [],
   "source": []
  },
  {
   "cell_type": "code",
   "execution_count": 52,
   "id": "6167f390",
   "metadata": {},
   "outputs": [],
   "source": [
    "# compare it to the actual error"
   ]
  },
  {
   "cell_type": "code",
   "execution_count": 53,
   "id": "0ed123e1",
   "metadata": {},
   "outputs": [
    {
     "data": {
      "text/plain": [
       "0.16182855493653758"
      ]
     },
     "execution_count": 53,
     "metadata": {},
     "output_type": "execute_result"
    }
   ],
   "source": [
    "norm(R_ls - R_groundtruth)"
   ]
  },
  {
   "cell_type": "code",
   "execution_count": 54,
   "id": "184422f3",
   "metadata": {},
   "outputs": [
    {
     "data": {
      "text/plain": [
       "0.00047013403319433355"
      ]
     },
     "execution_count": 54,
     "metadata": {},
     "output_type": "execute_result"
    }
   ],
   "source": [
    "norm(R_tls - R_groundtruth)"
   ]
  },
  {
   "cell_type": "code",
   "execution_count": 55,
   "id": "6472d430",
   "metadata": {},
   "outputs": [
    {
     "data": {
      "text/plain": [
       "true"
      ]
     },
     "execution_count": 55,
     "metadata": {},
     "output_type": "execute_result"
    }
   ],
   "source": [
    "norm(R_tls - R_groundtruth) < bb"
   ]
  },
  {
   "cell_type": "code",
   "execution_count": 56,
   "id": "5a798e69",
   "metadata": {},
   "outputs": [
    {
     "data": {
      "text/plain": [
       "0.16050775098694672"
      ]
     },
     "execution_count": 56,
     "metadata": {},
     "output_type": "execute_result"
    }
   ],
   "source": [
    "norm(R_gm - R_groundtruth)"
   ]
  },
  {
   "cell_type": "code",
   "execution_count": null,
   "id": "e546cbaa",
   "metadata": {},
   "outputs": [],
   "source": []
  },
  {
   "cell_type": "code",
   "execution_count": null,
   "id": "c449fd75",
   "metadata": {},
   "outputs": [],
   "source": []
  },
  {
   "cell_type": "code",
   "execution_count": null,
   "id": "bab8a2e1",
   "metadata": {},
   "outputs": [],
   "source": []
  },
  {
   "cell_type": "code",
   "execution_count": null,
   "id": "66e08402",
   "metadata": {},
   "outputs": [],
   "source": []
  }
 ],
 "metadata": {
  "@webio": {
   "lastCommId": null,
   "lastKernelId": null
  },
  "kernelspec": {
   "display_name": "Julia (4 threads) 1.8.0",
   "language": "julia",
   "name": "julia-_4-threads_-1.8"
  },
  "language_info": {
   "file_extension": ".jl",
   "mimetype": "application/julia",
   "name": "julia",
   "version": "1.8.0"
  }
 },
 "nbformat": 4,
 "nbformat_minor": 5
}
